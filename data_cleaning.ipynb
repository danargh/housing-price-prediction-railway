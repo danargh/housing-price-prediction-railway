{
 "cells": [
  {
   "attachments": {},
   "cell_type": "markdown",
   "metadata": {},
   "source": [
    "## Cleaning data"
   ]
  },
  {
   "attachments": {},
   "cell_type": "markdown",
   "metadata": {},
   "source": [
    "### 1. Read data"
   ]
  },
  {
   "cell_type": "code",
   "execution_count": 31,
   "metadata": {},
   "outputs": [
    {
     "data": {
      "text/html": [
       "<div>\n",
       "<style scoped>\n",
       "    .dataframe tbody tr th:only-of-type {\n",
       "        vertical-align: middle;\n",
       "    }\n",
       "\n",
       "    .dataframe tbody tr th {\n",
       "        vertical-align: top;\n",
       "    }\n",
       "\n",
       "    .dataframe thead th {\n",
       "        text-align: right;\n",
       "    }\n",
       "</style>\n",
       "<table border=\"1\" class=\"dataframe\">\n",
       "  <thead>\n",
       "    <tr style=\"text-align: right;\">\n",
       "      <th></th>\n",
       "      <th>web-scraper-order</th>\n",
       "      <th>web-scraper-start-url</th>\n",
       "      <th>title</th>\n",
       "      <th>title-href</th>\n",
       "      <th>nama</th>\n",
       "      <th>harga</th>\n",
       "      <th>lokasi</th>\n",
       "      <th>luas_bangunan</th>\n",
       "      <th>luas_tanah</th>\n",
       "      <th>kamar</th>\n",
       "      <th>kamar_mandi</th>\n",
       "      <th>listrik</th>\n",
       "      <th>interior</th>\n",
       "      <th>parkir</th>\n",
       "      <th>sertifikat</th>\n",
       "    </tr>\n",
       "  </thead>\n",
       "  <tbody>\n",
       "    <tr>\n",
       "      <th>0</th>\n",
       "      <td>1686134357-1</td>\n",
       "      <td>https://www.rumah.com/rumah-dijual/di-area-di-...</td>\n",
       "      <td>NaN</td>\n",
       "      <td>https://www.rumah.com/listing-properti/dijual-...</td>\n",
       "      <td>Rumah Kost Dijual 11 Kamar Tidur Dekat Kampus ...</td>\n",
       "      <td>Rp 2,8405 M</td>\n",
       "      <td>jl kaliurang km 14 sleman, Ngaglik, Sleman, DI...</td>\n",
       "      <td>186 m²</td>\n",
       "      <td>212 m²</td>\n",
       "      <td>10 tidur</td>\n",
       "      <td>10 mandi</td>\n",
       "      <td>3500 Watt</td>\n",
       "      <td>NaN</td>\n",
       "      <td>2.0</td>\n",
       "      <td>SHM - Sertifikat Hak Milik</td>\n",
       "    </tr>\n",
       "    <tr>\n",
       "      <th>1</th>\n",
       "      <td>1686134360-2</td>\n",
       "      <td>https://www.rumah.com/rumah-dijual/di-area-di-...</td>\n",
       "      <td>NaN</td>\n",
       "      <td>https://www.rumah.com/listing-properti/dijual-...</td>\n",
       "      <td>Rumah Murah 2 Lantai 900 Jutaan Dalam Cluster ...</td>\n",
       "      <td>Rp 980,29093 jt</td>\n",
       "      <td>Jalan Kaliurang Km.12 Ngaglik, Sleman, Ngaglik...</td>\n",
       "      <td>90 m²</td>\n",
       "      <td>100 m²</td>\n",
       "      <td>3 tidur</td>\n",
       "      <td>2 mandi</td>\n",
       "      <td>1300 Watt</td>\n",
       "      <td>Tak Berperabot</td>\n",
       "      <td>2.0</td>\n",
       "      <td>SHM - Sertifikat Hak Milik</td>\n",
       "    </tr>\n",
       "    <tr>\n",
       "      <th>2</th>\n",
       "      <td>1686134364-3</td>\n",
       "      <td>https://www.rumah.com/rumah-dijual/di-area-di-...</td>\n",
       "      <td>NaN</td>\n",
       "      <td>https://www.rumah.com/listing-properti/dijual-...</td>\n",
       "      <td>Dijual Murah Rumah di Pusat Kota Sleman</td>\n",
       "      <td>Rp 490 jt</td>\n",
       "      <td>Jalan Kp. Mangsel Wetan, Seyegan, Sleman, Seye...</td>\n",
       "      <td>60 m²</td>\n",
       "      <td>90 m²</td>\n",
       "      <td>3 tidur</td>\n",
       "      <td>1 mandi</td>\n",
       "      <td>1300 Watt</td>\n",
       "      <td>Tak Berperabot</td>\n",
       "      <td>1.0</td>\n",
       "      <td>SHM - Sertifikat Hak Milik</td>\n",
       "    </tr>\n",
       "    <tr>\n",
       "      <th>3</th>\n",
       "      <td>1686134368-4</td>\n",
       "      <td>https://www.rumah.com/rumah-dijual/di-area-di-...</td>\n",
       "      <td>NaN</td>\n",
       "      <td>https://www.rumah.com/listing-properti/dijual-...</td>\n",
       "      <td>Rumah Murah Dengan Mezzanine Dalam Cluster di ...</td>\n",
       "      <td>Rp 780,29393 jt</td>\n",
       "      <td>Jalan Kaliurang Km.12 Ngaglik, Sleman, Ngaglik...</td>\n",
       "      <td>84 m²</td>\n",
       "      <td>100 m²</td>\n",
       "      <td>3 tidur</td>\n",
       "      <td>2 mandi</td>\n",
       "      <td>1300 Watt</td>\n",
       "      <td>Tak Berperabot</td>\n",
       "      <td>2.0</td>\n",
       "      <td>SHM - Sertifikat Hak Milik</td>\n",
       "    </tr>\n",
       "    <tr>\n",
       "      <th>4</th>\n",
       "      <td>1686134371-5</td>\n",
       "      <td>https://www.rumah.com/rumah-dijual/di-area-di-...</td>\n",
       "      <td>NaN</td>\n",
       "      <td>https://www.rumah.com/listing-properti/dijual-...</td>\n",
       "      <td>Hunian Murah Dengan Mezzanine Dalam Cluster di...</td>\n",
       "      <td>Rp 780,939 jt</td>\n",
       "      <td>Jalan Kaliurang Km.12 Ngaglik, Sleman, Ngaglik...</td>\n",
       "      <td>84 m²</td>\n",
       "      <td>100 m²</td>\n",
       "      <td>3 tidur</td>\n",
       "      <td>2 mandi</td>\n",
       "      <td>1300 Watt</td>\n",
       "      <td>Tak Berperabot</td>\n",
       "      <td>1.0</td>\n",
       "      <td>SHM - Sertifikat Hak Milik</td>\n",
       "    </tr>\n",
       "  </tbody>\n",
       "</table>\n",
       "</div>"
      ],
      "text/plain": [
       "  web-scraper-order                              web-scraper-start-url  title  \\\n",
       "0      1686134357-1  https://www.rumah.com/rumah-dijual/di-area-di-...    NaN   \n",
       "1      1686134360-2  https://www.rumah.com/rumah-dijual/di-area-di-...    NaN   \n",
       "2      1686134364-3  https://www.rumah.com/rumah-dijual/di-area-di-...    NaN   \n",
       "3      1686134368-4  https://www.rumah.com/rumah-dijual/di-area-di-...    NaN   \n",
       "4      1686134371-5  https://www.rumah.com/rumah-dijual/di-area-di-...    NaN   \n",
       "\n",
       "                                          title-href  \\\n",
       "0  https://www.rumah.com/listing-properti/dijual-...   \n",
       "1  https://www.rumah.com/listing-properti/dijual-...   \n",
       "2  https://www.rumah.com/listing-properti/dijual-...   \n",
       "3  https://www.rumah.com/listing-properti/dijual-...   \n",
       "4  https://www.rumah.com/listing-properti/dijual-...   \n",
       "\n",
       "                                                nama            harga  \\\n",
       "0  Rumah Kost Dijual 11 Kamar Tidur Dekat Kampus ...      Rp 2,8405 M   \n",
       "1  Rumah Murah 2 Lantai 900 Jutaan Dalam Cluster ...  Rp 980,29093 jt   \n",
       "2            Dijual Murah Rumah di Pusat Kota Sleman        Rp 490 jt   \n",
       "3  Rumah Murah Dengan Mezzanine Dalam Cluster di ...  Rp 780,29393 jt   \n",
       "4  Hunian Murah Dengan Mezzanine Dalam Cluster di...    Rp 780,939 jt   \n",
       "\n",
       "                                              lokasi luas_bangunan luas_tanah  \\\n",
       "0  jl kaliurang km 14 sleman, Ngaglik, Sleman, DI...        186 m²     212 m²   \n",
       "1  Jalan Kaliurang Km.12 Ngaglik, Sleman, Ngaglik...         90 m²     100 m²   \n",
       "2  Jalan Kp. Mangsel Wetan, Seyegan, Sleman, Seye...         60 m²      90 m²   \n",
       "3  Jalan Kaliurang Km.12 Ngaglik, Sleman, Ngaglik...         84 m²     100 m²   \n",
       "4  Jalan Kaliurang Km.12 Ngaglik, Sleman, Ngaglik...         84 m²     100 m²   \n",
       "\n",
       "      kamar kamar_mandi    listrik        interior  parkir  \\\n",
       "0  10 tidur    10 mandi  3500 Watt             NaN     2.0   \n",
       "1   3 tidur     2 mandi  1300 Watt  Tak Berperabot     2.0   \n",
       "2   3 tidur     1 mandi  1300 Watt  Tak Berperabot     1.0   \n",
       "3   3 tidur     2 mandi  1300 Watt  Tak Berperabot     2.0   \n",
       "4   3 tidur     2 mandi  1300 Watt  Tak Berperabot     1.0   \n",
       "\n",
       "                   sertifikat  \n",
       "0  SHM - Sertifikat Hak Milik  \n",
       "1  SHM - Sertifikat Hak Milik  \n",
       "2  SHM - Sertifikat Hak Milik  \n",
       "3  SHM - Sertifikat Hak Milik  \n",
       "4  SHM - Sertifikat Hak Milik  "
      ]
     },
     "execution_count": 31,
     "metadata": {},
     "output_type": "execute_result"
    }
   ],
   "source": [
    "import pandas as pd\n",
    "data = pd.read_csv(\"data/rumahcom.csv\")\n",
    "data.head()"
   ]
  },
  {
   "attachments": {},
   "cell_type": "markdown",
   "metadata": {},
   "source": [
    "### 2. Delete null row"
   ]
  },
  {
   "cell_type": "code",
   "execution_count": 32,
   "metadata": {},
   "outputs": [],
   "source": [
    "data = data[data[\"harga\"].notnull()]\n",
    "data = data[data[\"lokasi\"].notnull()]\n",
    "data = data[data[\"luas_bangunan\"].notnull()]\n",
    "data = data[data[\"luas_tanah\"].notnull()]\n",
    "data = data[data[\"kamar\"].notnull()]\n",
    "data = data[data[\"kamar_mandi\"].notnull()]\n",
    "data = data[data[\"listrik\"].notnull()]\n",
    "data = data[data[\"interior\"].notnull()]\n",
    "data = data[data[\"parkir\"].notnull()]\n",
    "data = data[data[\"sertifikat\"].notnull()]"
   ]
  },
  {
   "attachments": {},
   "cell_type": "markdown",
   "metadata": {},
   "source": [
    "### 3. Delete unnecessary column"
   ]
  },
  {
   "cell_type": "code",
   "execution_count": 33,
   "metadata": {},
   "outputs": [
    {
     "data": {
      "text/html": [
       "<div>\n",
       "<style scoped>\n",
       "    .dataframe tbody tr th:only-of-type {\n",
       "        vertical-align: middle;\n",
       "    }\n",
       "\n",
       "    .dataframe tbody tr th {\n",
       "        vertical-align: top;\n",
       "    }\n",
       "\n",
       "    .dataframe thead th {\n",
       "        text-align: right;\n",
       "    }\n",
       "</style>\n",
       "<table border=\"1\" class=\"dataframe\">\n",
       "  <thead>\n",
       "    <tr style=\"text-align: right;\">\n",
       "      <th></th>\n",
       "      <th>harga</th>\n",
       "      <th>lokasi</th>\n",
       "      <th>luas_bangunan</th>\n",
       "      <th>luas_tanah</th>\n",
       "      <th>kamar</th>\n",
       "      <th>kamar_mandi</th>\n",
       "      <th>listrik</th>\n",
       "      <th>interior</th>\n",
       "      <th>parkir</th>\n",
       "      <th>sertifikat</th>\n",
       "    </tr>\n",
       "  </thead>\n",
       "  <tbody>\n",
       "    <tr>\n",
       "      <th>1</th>\n",
       "      <td>Rp 980,29093 jt</td>\n",
       "      <td>Jalan Kaliurang Km.12 Ngaglik, Sleman, Ngaglik...</td>\n",
       "      <td>90 m²</td>\n",
       "      <td>100 m²</td>\n",
       "      <td>3 tidur</td>\n",
       "      <td>2 mandi</td>\n",
       "      <td>1300 Watt</td>\n",
       "      <td>Tak Berperabot</td>\n",
       "      <td>2.0</td>\n",
       "      <td>SHM - Sertifikat Hak Milik</td>\n",
       "    </tr>\n",
       "    <tr>\n",
       "      <th>2</th>\n",
       "      <td>Rp 490 jt</td>\n",
       "      <td>Jalan Kp. Mangsel Wetan, Seyegan, Sleman, Seye...</td>\n",
       "      <td>60 m²</td>\n",
       "      <td>90 m²</td>\n",
       "      <td>3 tidur</td>\n",
       "      <td>1 mandi</td>\n",
       "      <td>1300 Watt</td>\n",
       "      <td>Tak Berperabot</td>\n",
       "      <td>1.0</td>\n",
       "      <td>SHM - Sertifikat Hak Milik</td>\n",
       "    </tr>\n",
       "    <tr>\n",
       "      <th>3</th>\n",
       "      <td>Rp 780,29393 jt</td>\n",
       "      <td>Jalan Kaliurang Km.12 Ngaglik, Sleman, Ngaglik...</td>\n",
       "      <td>84 m²</td>\n",
       "      <td>100 m²</td>\n",
       "      <td>3 tidur</td>\n",
       "      <td>2 mandi</td>\n",
       "      <td>1300 Watt</td>\n",
       "      <td>Tak Berperabot</td>\n",
       "      <td>2.0</td>\n",
       "      <td>SHM - Sertifikat Hak Milik</td>\n",
       "    </tr>\n",
       "    <tr>\n",
       "      <th>4</th>\n",
       "      <td>Rp 780,939 jt</td>\n",
       "      <td>Jalan Kaliurang Km.12 Ngaglik, Sleman, Ngaglik...</td>\n",
       "      <td>84 m²</td>\n",
       "      <td>100 m²</td>\n",
       "      <td>3 tidur</td>\n",
       "      <td>2 mandi</td>\n",
       "      <td>1300 Watt</td>\n",
       "      <td>Tak Berperabot</td>\n",
       "      <td>1.0</td>\n",
       "      <td>SHM - Sertifikat Hak Milik</td>\n",
       "    </tr>\n",
       "    <tr>\n",
       "      <th>5</th>\n",
       "      <td>Rp 1,799 M</td>\n",
       "      <td>Jl. Jend. Sudirman No.19, Cokrodiningratan, Je...</td>\n",
       "      <td>154 m²</td>\n",
       "      <td>130 m²</td>\n",
       "      <td>3 tidur</td>\n",
       "      <td>3 mandi</td>\n",
       "      <td>2200 Watt</td>\n",
       "      <td>Tak Berperabot</td>\n",
       "      <td>2.0</td>\n",
       "      <td>SHM - Sertifikat Hak Milik</td>\n",
       "    </tr>\n",
       "    <tr>\n",
       "      <th>...</th>\n",
       "      <td>...</td>\n",
       "      <td>...</td>\n",
       "      <td>...</td>\n",
       "      <td>...</td>\n",
       "      <td>...</td>\n",
       "      <td>...</td>\n",
       "      <td>...</td>\n",
       "      <td>...</td>\n",
       "      <td>...</td>\n",
       "      <td>...</td>\n",
       "    </tr>\n",
       "    <tr>\n",
       "      <th>4076</th>\n",
       "      <td>Rp 1,89 M</td>\n",
       "      <td>Taraman Krandon Ngemplak, Ngemplak, Sleman, DI...</td>\n",
       "      <td>116 m²</td>\n",
       "      <td>135 m²</td>\n",
       "      <td>3 tidur</td>\n",
       "      <td>2 mandi</td>\n",
       "      <td>2200 Watt</td>\n",
       "      <td>Sebagian</td>\n",
       "      <td>2.0</td>\n",
       "      <td>SHM - Sertifikat Hak Milik</td>\n",
       "    </tr>\n",
       "    <tr>\n",
       "      <th>4077</th>\n",
       "      <td>Rp 1,8 M</td>\n",
       "      <td>Candirejo Ngaglik Sleman Yogyakarta, Ngaglik, ...</td>\n",
       "      <td>280 m²</td>\n",
       "      <td>150 m²</td>\n",
       "      <td>8 tidur</td>\n",
       "      <td>8 mandi</td>\n",
       "      <td>2200 Watt</td>\n",
       "      <td>Tak Berperabot</td>\n",
       "      <td>2.0</td>\n",
       "      <td>SHM - Sertifikat Hak Milik</td>\n",
       "    </tr>\n",
       "    <tr>\n",
       "      <th>4078</th>\n",
       "      <td>Rp 1,5 M</td>\n",
       "      <td>Kajor Banyuraden, Gamping, Sleman, DI Yogyakar...</td>\n",
       "      <td>110 m²</td>\n",
       "      <td>108 m²</td>\n",
       "      <td>4 tidur</td>\n",
       "      <td>3 mandi</td>\n",
       "      <td>2200 Watt</td>\n",
       "      <td>Tak Berperabot</td>\n",
       "      <td>2.0</td>\n",
       "      <td>SHM - Sertifikat Hak Milik</td>\n",
       "    </tr>\n",
       "    <tr>\n",
       "      <th>4079</th>\n",
       "      <td>Rp 1,6 M</td>\n",
       "      <td>Soragan Ngestiharjo, Kasihan, Bantul, DI Yogya...</td>\n",
       "      <td>180 m²</td>\n",
       "      <td>146 m²</td>\n",
       "      <td>5 tidur</td>\n",
       "      <td>3 mandi</td>\n",
       "      <td>1300 Watt</td>\n",
       "      <td>Tak Berperabot</td>\n",
       "      <td>1.0</td>\n",
       "      <td>SHGB - Hak Guna Bangunan</td>\n",
       "    </tr>\n",
       "    <tr>\n",
       "      <th>4080</th>\n",
       "      <td>Rp 775 jt</td>\n",
       "      <td>Purwomartani, Kalasan, Sleman, DI Yogyakarta J...</td>\n",
       "      <td>52 m²</td>\n",
       "      <td>90 m²</td>\n",
       "      <td>2 tidur</td>\n",
       "      <td>1 mandi</td>\n",
       "      <td>1300 Watt</td>\n",
       "      <td>Lengkap</td>\n",
       "      <td>1.0</td>\n",
       "      <td>SHM - Sertifikat Hak Milik</td>\n",
       "    </tr>\n",
       "  </tbody>\n",
       "</table>\n",
       "<p>3350 rows × 10 columns</p>\n",
       "</div>"
      ],
      "text/plain": [
       "                harga                                             lokasi  \\\n",
       "1     Rp 980,29093 jt  Jalan Kaliurang Km.12 Ngaglik, Sleman, Ngaglik...   \n",
       "2           Rp 490 jt  Jalan Kp. Mangsel Wetan, Seyegan, Sleman, Seye...   \n",
       "3     Rp 780,29393 jt  Jalan Kaliurang Km.12 Ngaglik, Sleman, Ngaglik...   \n",
       "4       Rp 780,939 jt  Jalan Kaliurang Km.12 Ngaglik, Sleman, Ngaglik...   \n",
       "5          Rp 1,799 M  Jl. Jend. Sudirman No.19, Cokrodiningratan, Je...   \n",
       "...               ...                                                ...   \n",
       "4076        Rp 1,89 M  Taraman Krandon Ngemplak, Ngemplak, Sleman, DI...   \n",
       "4077         Rp 1,8 M  Candirejo Ngaglik Sleman Yogyakarta, Ngaglik, ...   \n",
       "4078         Rp 1,5 M  Kajor Banyuraden, Gamping, Sleman, DI Yogyakar...   \n",
       "4079         Rp 1,6 M  Soragan Ngestiharjo, Kasihan, Bantul, DI Yogya...   \n",
       "4080        Rp 775 jt  Purwomartani, Kalasan, Sleman, DI Yogyakarta J...   \n",
       "\n",
       "     luas_bangunan luas_tanah    kamar kamar_mandi    listrik        interior  \\\n",
       "1            90 m²     100 m²  3 tidur     2 mandi  1300 Watt  Tak Berperabot   \n",
       "2            60 m²      90 m²  3 tidur     1 mandi  1300 Watt  Tak Berperabot   \n",
       "3            84 m²     100 m²  3 tidur     2 mandi  1300 Watt  Tak Berperabot   \n",
       "4            84 m²     100 m²  3 tidur     2 mandi  1300 Watt  Tak Berperabot   \n",
       "5           154 m²     130 m²  3 tidur     3 mandi  2200 Watt  Tak Berperabot   \n",
       "...            ...        ...      ...         ...        ...             ...   \n",
       "4076        116 m²     135 m²  3 tidur     2 mandi  2200 Watt        Sebagian   \n",
       "4077        280 m²     150 m²  8 tidur     8 mandi  2200 Watt  Tak Berperabot   \n",
       "4078        110 m²     108 m²  4 tidur     3 mandi  2200 Watt  Tak Berperabot   \n",
       "4079        180 m²     146 m²  5 tidur     3 mandi  1300 Watt  Tak Berperabot   \n",
       "4080         52 m²      90 m²  2 tidur     1 mandi  1300 Watt         Lengkap   \n",
       "\n",
       "      parkir                  sertifikat  \n",
       "1        2.0  SHM - Sertifikat Hak Milik  \n",
       "2        1.0  SHM - Sertifikat Hak Milik  \n",
       "3        2.0  SHM - Sertifikat Hak Milik  \n",
       "4        1.0  SHM - Sertifikat Hak Milik  \n",
       "5        2.0  SHM - Sertifikat Hak Milik  \n",
       "...      ...                         ...  \n",
       "4076     2.0  SHM - Sertifikat Hak Milik  \n",
       "4077     2.0  SHM - Sertifikat Hak Milik  \n",
       "4078     2.0  SHM - Sertifikat Hak Milik  \n",
       "4079     1.0    SHGB - Hak Guna Bangunan  \n",
       "4080     1.0  SHM - Sertifikat Hak Milik  \n",
       "\n",
       "[3350 rows x 10 columns]"
      ]
     },
     "execution_count": 33,
     "metadata": {},
     "output_type": "execute_result"
    }
   ],
   "source": [
    "# Delete column web-scraper-order, web-scraper-start-url, title, title-href, nama\n",
    "data = data.drop([\"web-scraper-order\", \"web-scraper-start-url\", \"title\", \"title-href\", \"nama\"], axis=1)\n",
    "data"
   ]
  },
  {
   "attachments": {},
   "cell_type": "markdown",
   "metadata": {},
   "source": [
    "### 4. Clean lokasi"
   ]
  },
  {
   "cell_type": "code",
   "execution_count": 34,
   "metadata": {},
   "outputs": [],
   "source": [
    "# Split the address into parts using comma as the delimiter\n",
    "data[\"lokasi\"] = data[\"lokasi\"].str.split(\",\")\n",
    "# Keep the last two parts of the address and join them back into a single string\n",
    "data[\"lokasi\"] = data[\"lokasi\"].apply(lambda x: \", \".join(x[-2:]))\n",
    "# Delete behind the comma from lokasi\n",
    "data[\"lokasi\"] = data[\"lokasi\"].str.split(\",\").str[0]\n",
    "# Remove whitespace from the beginning and end of the string of lokasi\n",
    "data[\"lokasi\"] = data[\"lokasi\"].str.strip()"
   ]
  },
  {
   "attachments": {},
   "cell_type": "markdown",
   "metadata": {},
   "source": [
    "### 5. Clean harga"
   ]
  },
  {
   "cell_type": "code",
   "execution_count": 35,
   "metadata": {},
   "outputs": [],
   "source": [
    "# Clean harga M\n",
    "for i, value in enumerate(data[\"harga\"]):\n",
    "    if isinstance(value, str):\n",
    "        try:\n",
    "            data.loc[i, \"harga\"] = float(value.replace(\"Rp\", \"\").replace(\" \", \"\").replace(\"M\", \"\").replace(\",\", \".\")) * 1000000000\n",
    "        except ValueError:\n",
    "            pass"
   ]
  },
  {
   "cell_type": "code",
   "execution_count": 36,
   "metadata": {},
   "outputs": [],
   "source": [
    "# Clean harga jt\n",
    "for i, value in enumerate(data[\"harga\"]):\n",
    "    if isinstance(value, str):\n",
    "        try:\n",
    "            data.loc[i, \"harga\"] = float(value.replace(\"Rp\", \"\").replace(\" \", \"\").replace(\"jt\", \"\").replace(\",\", \".\")) * 1000000\n",
    "        except ValueError:\n",
    "            pass"
   ]
  },
  {
   "cell_type": "code",
   "execution_count": 37,
   "metadata": {},
   "outputs": [],
   "source": [
    "# Clean harga rb\n",
    "data = data[~data[\"harga\"].astype(str).str.contains(\"rb\")]"
   ]
  },
  {
   "attachments": {},
   "cell_type": "markdown",
   "metadata": {},
   "source": [
    "### 6. Clean luas_bangunan"
   ]
  },
  {
   "cell_type": "code",
   "execution_count": 38,
   "metadata": {},
   "outputs": [],
   "source": [
    "# Remove after whitespace from luas_bangunan\n",
    "data[\"luas_bangunan\"] = data[\"luas_bangunan\"].str.split(\" \").str[0]"
   ]
  },
  {
   "attachments": {},
   "cell_type": "markdown",
   "metadata": {},
   "source": [
    "### 7. Clean luas_tanah"
   ]
  },
  {
   "cell_type": "code",
   "execution_count": 39,
   "metadata": {},
   "outputs": [],
   "source": [
    "# Remove after whitespace from luas_tanah\n",
    "data[\"luas_tanah\"] = data[\"luas_tanah\"].str.split(\" \").str[0]\n",
    "\n",
    "# Remove , from luas_tanah\n",
    "data[\"luas_tanah\"] = data[\"luas_tanah\"].str.replace(\",\", \"\")"
   ]
  },
  {
   "attachments": {},
   "cell_type": "markdown",
   "metadata": {},
   "source": [
    "### 8. Clean kamar"
   ]
  },
  {
   "cell_type": "code",
   "execution_count": 40,
   "metadata": {},
   "outputs": [],
   "source": [
    "data[\"kamar\"] = data[\"kamar\"].str.split(\" \").str[0]"
   ]
  },
  {
   "attachments": {},
   "cell_type": "markdown",
   "metadata": {},
   "source": [
    "### 9. Clean kamar_mandi"
   ]
  },
  {
   "cell_type": "code",
   "execution_count": 41,
   "metadata": {},
   "outputs": [],
   "source": [
    "data[\"kamar_mandi\"] = data[\"kamar_mandi\"].str.split(\" \").str[0]"
   ]
  },
  {
   "attachments": {},
   "cell_type": "markdown",
   "metadata": {},
   "source": [
    "### 10. Clean listrik"
   ]
  },
  {
   "cell_type": "code",
   "execution_count": 42,
   "metadata": {},
   "outputs": [],
   "source": [
    "data[\"listrik\"] = data[\"listrik\"].str.split(\" \").str[0]"
   ]
  },
  {
   "attachments": {},
   "cell_type": "markdown",
   "metadata": {},
   "source": [
    "### 11. Convert to numerical data"
   ]
  },
  {
   "cell_type": "code",
   "execution_count": 43,
   "metadata": {},
   "outputs": [],
   "source": [
    "# Convert data to integer\n",
    "# data[\"harga\"] = data[\"harga\"].astype(float)\n",
    "# data[\"kamar_mandi\"] = data[\"kamar_mandi\"].astype(int)\n",
    "# data[\"kamar\"] = data[\"kamar\"].astype(int)\n",
    "# data[\"luas_tanah\"] = data[\"luas_tanah\"].astype(int)\n",
    "# data[\"luas_bangunan\"] = data[\"luas_bangunan\"].astype(int)\n",
    "# data[\"parkir\"] = data[\"parkir\"].astype(int)\n",
    "# data[\"listrik\"] = data[\"listrik\"].astype(int)"
   ]
  },
  {
   "attachments": {},
   "cell_type": "markdown",
   "metadata": {},
   "source": [
    "### 12. Export cleaned data"
   ]
  },
  {
   "cell_type": "code",
   "execution_count": 44,
   "metadata": {},
   "outputs": [
    {
     "name": "stdout",
     "output_type": "stream",
     "text": [
      "             harga      lokasi  luas_bangunan  luas_tanah  kamar  kamar_mandi  \\\n",
      "0      490000000.0      Sleman           90.0       100.0    3.0          2.0   \n",
      "1      780293930.0      Sleman           60.0        90.0    3.0          1.0   \n",
      "2  Rp 780,29393 jt      Sleman           84.0       100.0    3.0          2.0   \n",
      "3     1799000000.0      Sleman           84.0       100.0    3.0          2.0   \n",
      "4     1799000000.0  Yogyakarta          154.0       130.0    3.0          3.0   \n",
      "\n",
      "   listrik        interior  parkir                  sertifikat  \n",
      "0   1300.0  Tak Berperabot     2.0  SHM - Sertifikat Hak Milik  \n",
      "1   1300.0  Tak Berperabot     1.0  SHM - Sertifikat Hak Milik  \n",
      "2   1300.0  Tak Berperabot     2.0  SHM - Sertifikat Hak Milik  \n",
      "3   1300.0  Tak Berperabot     1.0  SHM - Sertifikat Hak Milik  \n",
      "4   2200.0  Tak Berperabot     2.0  SHM - Sertifikat Hak Milik  \n"
     ]
    }
   ],
   "source": [
    "# Save the updated data to a new CSV file\n",
    "data.to_csv(\"data/updated_file.csv\", index=False)\n",
    "updated_data = pd.read_csv(\"data/updated_file.csv\")\n",
    "print(updated_data.head())"
   ]
  }
 ],
 "metadata": {
  "kernelspec": {
   "display_name": "Python 3",
   "language": "python",
   "name": "python3"
  },
  "language_info": {
   "codemirror_mode": {
    "name": "ipython",
    "version": 3
   },
   "file_extension": ".py",
   "mimetype": "text/x-python",
   "name": "python",
   "nbconvert_exporter": "python",
   "pygments_lexer": "ipython3",
   "version": "3.10.9"
  },
  "orig_nbformat": 4
 },
 "nbformat": 4,
 "nbformat_minor": 2
}
